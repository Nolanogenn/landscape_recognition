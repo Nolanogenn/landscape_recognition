{
 "cells": [
  {
   "cell_type": "markdown",
   "id": "7a4d0456",
   "metadata": {},
   "source": [
    "Data downloaded from https://www.kaggle.com/datasets/utkarshsaxenadn/landscape-recognition-image-dataset-12k-images\n"
   ]
  },
  {
   "cell_type": "code",
   "execution_count": 39,
   "id": "b908f374",
   "metadata": {},
   "outputs": [],
   "source": [
    "import numpy as np\n",
    "import os\n",
    "import pandas as pd\n",
    "import tensorflow as tf\n",
    "\n",
    "from tensorflow import io\n",
    "from tensorflow import data as tfd\n",
    "from tensorflow import image as tfi\n",
    "from tensorflow import keras\n",
    "from keras.preprocessing.image import ImageDataGenerator\n",
    "\n",
    "import plotly.express as px\n",
    "import matplotlib.pyplot as plt"
   ]
  },
  {
   "cell_type": "code",
   "execution_count": 72,
   "id": "4909e0fb",
   "metadata": {},
   "outputs": [],
   "source": [
    "train_path = './data/Landscape Classification/Landscape Classification/Training Data'\n",
    "val_path = './data/Landscape Classification/Landscape Classification/Validation Data'\n",
    "test_path = './data/Landscape Classification/Landscape Classification/Testing Data'"
   ]
  },
  {
   "cell_type": "code",
   "execution_count": 73,
   "id": "fbf67725",
   "metadata": {},
   "outputs": [],
   "source": [
    "class_names = sorted(os.listdir(train_path))\n",
    "num_classes = len(class_names)\n",
    "image_size = (150,150)\n",
    "batch_size=32"
   ]
  },
  {
   "cell_type": "code",
   "execution_count": 74,
   "id": "de3e5d03",
   "metadata": {},
   "outputs": [
    {
     "name": "stdout",
     "output_type": "stream",
     "text": [
      "Found 10000 files belonging to 5 classes.\n",
      "Found 500 files belonging to 5 classes.\n",
      "Found 1500 files belonging to 5 classes.\n"
     ]
    }
   ],
   "source": [
    "train_ds = keras.preprocessing.image_dataset_from_directory(\n",
    "train_path,\n",
    "image_size=image_size,\n",
    "batch_size = batch_size,\n",
    "label_mode='categorical'\n",
    ")\n",
    "test_ds = keras.preprocessing.image_dataset_from_directory(\n",
    "test_path,\n",
    "image_size=image_size,\n",
    "batch_size = batch_size,\n",
    "label_mode='categorical'\n",
    ")\n",
    "val_ds = keras.preprocessing.image_dataset_from_directory(\n",
    "val_path,\n",
    "image_size=image_size,\n",
    "batch_size = batch_size,\n",
    "label_mode='categorical'\n",
    ")"
   ]
  },
  {
   "cell_type": "code",
   "execution_count": 75,
   "id": "0c73a790",
   "metadata": {},
   "outputs": [],
   "source": [
    "train_ds = train_ds.prefetch(buffer_size=32)\n",
    "test_ds = test_ds.prefetch(buffer_size=32)\n",
    "val_ds = val_ds.prefetch(buffer_size=32)"
   ]
  },
  {
   "cell_type": "code",
   "execution_count": 81,
   "id": "84299b42",
   "metadata": {},
   "outputs": [
    {
     "name": "stdout",
     "output_type": "stream",
     "text": [
      "Model: \"sequential_13\"\n",
      "_________________________________________________________________\n",
      " Layer (type)                Output Shape              Param #   \n",
      "=================================================================\n",
      " rescaling_8 (Rescaling)     (None, 150, 150, 3)       0         \n",
      "                                                                 \n",
      " conv2d_3 (Conv2D)           (None, 148, 148, 32)      896       \n",
      "                                                                 \n",
      " max_pooling2d_3 (MaxPooling  (None, 74, 74, 32)       0         \n",
      " 2D)                                                             \n",
      "                                                                 \n",
      " conv2d_4 (Conv2D)           (None, 72, 72, 64)        18496     \n",
      "                                                                 \n",
      " max_pooling2d_4 (MaxPooling  (None, 36, 36, 64)       0         \n",
      " 2D)                                                             \n",
      "                                                                 \n",
      " dropout_3 (Dropout)         (None, 36, 36, 64)        0         \n",
      "                                                                 \n",
      " conv2d_5 (Conv2D)           (None, 34, 34, 128)       73856     \n",
      "                                                                 \n",
      " max_pooling2d_5 (MaxPooling  (None, 17, 17, 128)      0         \n",
      " 2D)                                                             \n",
      "                                                                 \n",
      " dropout_4 (Dropout)         (None, 17, 17, 128)       0         \n",
      "                                                                 \n",
      " flatten_1 (Flatten)         (None, 36992)             0         \n",
      "                                                                 \n",
      " dense_2 (Dense)             (None, 128)               4735104   \n",
      "                                                                 \n",
      " dropout_5 (Dropout)         (None, 128)               0         \n",
      "                                                                 \n",
      " dense_3 (Dense)             (None, 5)                 645       \n",
      "                                                                 \n",
      "=================================================================\n",
      "Total params: 4,828,997\n",
      "Trainable params: 4,828,997\n",
      "Non-trainable params: 0\n",
      "_________________________________________________________________\n"
     ]
    }
   ],
   "source": [
    "from keras.layers import Rescaling, Conv2D, MaxPooling2D, Dropout, Flatten, Dense\n",
    "\n",
    "model = keras.Sequential()\n",
    "model.add(Rescaling(scale=(1./127.5),offset=-1, input_shape=(150,150,3)))\n",
    "model.add(Conv2D(32, kernel_size=(3,3), activation='relu'))\n",
    "model.add(MaxPooling2D(pool_size=(2,2)))\n",
    "\n",
    "model.add(Conv2D(64, kernel_size=(3,3), activation='relu'))\n",
    "model.add(MaxPooling2D(pool_size=(2,2)))\n",
    "model.add(Dropout(0.25))\n",
    "\n",
    "model.add(Conv2D(128, kernel_size=(3,3), activation='relu'))\n",
    "model.add(MaxPooling2D(pool_size=(2,2)))\n",
    "model.add(Dropout(0.25))\n",
    "\n",
    "model.add(Flatten())\n",
    "model.add(Dense(128, activation='relu'))\n",
    "model.add(Dropout(0.5))\n",
    "\n",
    "model.add(Dense(5, activation='softmax'))\n",
    "\n",
    "model.compile(optimizer='adam',\n",
    "             loss=tf.losses.CategoricalCrossentropy(from_logits=None),\n",
    "             metrics=['accuracy'])\n",
    "model.summary()\n"
   ]
  },
  {
   "cell_type": "code",
   "execution_count": 82,
   "id": "d83891ec",
   "metadata": {},
   "outputs": [
    {
     "name": "stderr",
     "output_type": "stream",
     "text": [
      "2022-12-19 16:24:42.163261: W tensorflow/core/framework/cpu_allocator_impl.cc:82] Allocation of 89718784 exceeds 10% of free system memory.\n",
      "2022-12-19 16:24:42.483054: W tensorflow/core/framework/cpu_allocator_impl.cc:82] Allocation of 42467328 exceeds 10% of free system memory.\n",
      "2022-12-19 16:24:43.198364: W tensorflow/core/framework/cpu_allocator_impl.cc:82] Allocation of 42467328 exceeds 10% of free system memory.\n",
      "2022-12-19 16:24:43.327526: W tensorflow/core/framework/cpu_allocator_impl.cc:82] Allocation of 29859840 exceeds 10% of free system memory.\n",
      "2022-12-19 16:24:43.567530: W tensorflow/core/framework/cpu_allocator_impl.cc:82] Allocation of 44859392 exceeds 10% of free system memory.\n"
     ]
    },
    {
     "name": "stdout",
     "output_type": "stream",
     "text": [
      "313/313 [==============================] - 283s 899ms/step - loss: 0.9861 - accuracy: 0.6315\n"
     ]
    },
    {
     "data": {
      "text/plain": [
       "<keras.callbacks.History at 0x7f4018230ac0>"
      ]
     },
     "execution_count": 82,
     "metadata": {},
     "output_type": "execute_result"
    }
   ],
   "source": [
    "model.fit(train_ds)"
   ]
  },
  {
   "cell_type": "code",
   "execution_count": 85,
   "id": "9b6b6395",
   "metadata": {},
   "outputs": [
    {
     "name": "stdout",
     "output_type": "stream",
     "text": [
      "16/16 [==============================] - 4s 228ms/step - loss: 0.7279 - accuracy: 0.7360\n"
     ]
    },
    {
     "data": {
      "text/plain": [
       "[0.7279148101806641, 0.7360000014305115]"
      ]
     },
     "execution_count": 85,
     "metadata": {},
     "output_type": "execute_result"
    }
   ],
   "source": [
    "model.evaluate(test_ds)"
   ]
  },
  {
   "cell_type": "code",
   "execution_count": null,
   "id": "e7343c1b",
   "metadata": {},
   "outputs": [],
   "source": []
  }
 ],
 "metadata": {
  "kernelspec": {
   "display_name": "Python 3 (ipykernel)",
   "language": "python",
   "name": "python3"
  },
  "language_info": {
   "codemirror_mode": {
    "name": "ipython",
    "version": 3
   },
   "file_extension": ".py",
   "mimetype": "text/x-python",
   "name": "python",
   "nbconvert_exporter": "python",
   "pygments_lexer": "ipython3",
   "version": "3.9.12"
  }
 },
 "nbformat": 4,
 "nbformat_minor": 5
}
